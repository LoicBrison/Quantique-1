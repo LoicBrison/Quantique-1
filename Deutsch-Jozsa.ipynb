{
 "cells": [
  {
   "cell_type": "code",
   "execution_count": 7,
   "metadata": {},
   "outputs": [],
   "source": [
    "import qiskit\n",
    "import matplotlib as mpl\n",
    "from random import choice, randint\n",
    "from qiskit_ibm_runtime import QiskitRuntimeService, SamplerV2 as Sampler\n",
    "from qiskit.quantum_info import Statevector\n",
    "from qiskit.providers.provider import Provider\n",
    "from qiskit_aer import AerSimulator, AerProvider\n"
   ]
  },
  {
   "cell_type": "code",
   "execution_count": 8,
   "metadata": {},
   "outputs": [],
   "source": [
    "def Oracle(circuit,n):     #begin our function\n",
    "    oracle_type = choice(['Constant0','Constant1','Balanced'])\n",
    "    circuit.barrier()\n",
    "    if oracle_type == 'Balanced':\n",
    "        flipGates = randint(0,(2**n)-1)    #random binary num between\n",
    "                                    #0 and 7\n",
    "        flipGates = format(flipGates, '0'+str(n)+'b') #convert to binary\n",
    "\n",
    "        for qbit in range(0,len(flipGates)):   #iterate through flipGates\n",
    "            if flipGates[qbit] == '1':\n",
    "                circuit.x(qbit)     #flip qubit if necessary\n",
    "        for qbit in range(0,n):    #CX Gate controlled on every query qubit\n",
    "            circuit.cx(qbit,n+1)   #and targeting auxiliary qubit\n",
    "        for qbit in range(0,len(flipGates)):   #unflip qubits so output\n",
    "            if flipGates[qbit] == '1':         #reveals nothing except\n",
    "                circuit.x(qbit)                #what the original input was\n",
    "    elif oracle_type == 'Constant0':\n",
    "        circuit.z(n)    #flip Auxiliary \n",
    "    elif oracle_type == 'Constant1':\n",
    "        pass\n",
    "    \n",
    "    return circuit, oracle_type"
   ]
  },
  {
   "cell_type": "code",
   "execution_count": 9,
   "metadata": {},
   "outputs": [],
   "source": [
    "n = 3    #the size of our Query, NOT including the Auxiliary\n",
    "circuit = qiskit.QuantumCircuit(n+1,n+1)   #create circuit including                                                                   ⠀                                         \n",
    " #Auxiliary qubit & bit"
   ]
  },
  {
   "cell_type": "code",
   "execution_count": 10,
   "metadata": {},
   "outputs": [
    {
     "data": {
      "image/png": "[encoded data removed]",
      "text/plain": [
       "<Figure size 203.885x451.5 with 1 Axes>"
      ]
     },
     "execution_count": 10,
     "metadata": {},
     "output_type": "execute_result"
    }
   ],
   "source": [
    "for i in range(0,n):\n",
    "    circuit.h(i)\n",
    "    \n",
    "circuit.draw('mpl')"
   ]
  },
  {
   "cell_type": "code",
   "execution_count": 11,
   "metadata": {},
   "outputs": [
    {
     "data": {
      "text/plain": [
       "<qiskit.circuit.instructionset.InstructionSet at 0x7fcb2e3a99f0>"
      ]
     },
     "execution_count": 11,
     "metadata": {},
     "output_type": "execute_result"
    }
   ],
   "source": [
    "#before Oracle function, after applying Hadamards to Query\n",
    "circuit.x(n)    #flip Auxiliary\n",
    "circuit.h(n)    #put into |-> state"
   ]
  },
  {
   "cell_type": "code",
   "execution_count": 12,
   "metadata": {},
   "outputs": [],
   "source": [
    "circuit, oracle_type = Oracle(circuit,n)\n"
   ]
  },
  {
   "cell_type": "code",
   "execution_count": 13,
   "metadata": {},
   "outputs": [],
   "source": [
    "\n",
    "#after Oracle function\n",
    "for qbit in range(0,n+1):\n",
    "    circuit.h(qbit)    #apply Hadamard to each qubit\n",
    "    circuit.measure(qbit,qbit)    #measure qubit onto respective bit"
   ]
  },
  {
   "cell_type": "code",
   "execution_count": 14,
   "metadata": {},
   "outputs": [
    {
     "ename": "AttributeError",
     "evalue": "type object 'AerSimulator' has no attribute 'backend'",
     "output_type": "error",
     "traceback": [
      "\u001b[0;31m---------------------------------------------------------------------------\u001b[0m",
      "\u001b[0;31mAttributeError\u001b[0m                            Traceback (most recent call last)",
      "Cell \u001b[0;32mIn[14], line 3\u001b[0m\n\u001b[1;32m      1\u001b[0m service \u001b[38;5;241m=\u001b[39m QiskitRuntimeService(channel\u001b[38;5;241m=\u001b[39m\u001b[38;5;124m\"\u001b[39m\u001b[38;5;124mibm_quantum\u001b[39m\u001b[38;5;124m\"\u001b[39m, token\u001b[38;5;241m=\u001b[39m\u001b[38;5;124m\"\u001b[39m\u001b[38;5;124me6dec15dab235c04a88b1aee92cec77d00a5e29cd7a1b296c7fbccf841e64a91e3aa19343670a23c1fcb3cd8e3ae523c6dddd0e3f63137681a0cbe9861885c52\u001b[39m\u001b[38;5;124m\"\u001b[39m)\n\u001b[1;32m      2\u001b[0m \u001b[38;5;66;03m# backend = service.backend(\"ibmq_qasm_simulator\")\u001b[39;00m\n\u001b[0;32m----> 3\u001b[0m backend \u001b[38;5;241m=\u001b[39m \u001b[43mAerSimulator\u001b[49m\u001b[38;5;241;43m.\u001b[39;49m\u001b[43mbackend\u001b[49m(\u001b[38;5;124m\"\u001b[39m\u001b[38;5;124mstatevector_simulator\u001b[39m\u001b[38;5;124m\"\u001b[39m)\n\u001b[1;32m      4\u001b[0m \u001b[38;5;66;03m# job = qiskit.execute(circuit,backend,shots=1024)\u001b[39;00m\n\u001b[1;32m      5\u001b[0m \u001b[38;5;66;03m# sampler = Sampler(backend)\u001b[39;00m\n\u001b[1;32m      6\u001b[0m \u001b[38;5;66;03m# job = sampler.run([(circuit,)],shots=1024)\u001b[39;00m\n\u001b[1;32m      7\u001b[0m \u001b[38;5;66;03m# job_monitor(job)\u001b[39;00m\n\u001b[1;32m      8\u001b[0m job \u001b[38;5;241m=\u001b[39m backend\u001b[38;5;241m.\u001b[39mrun(circuit, shots\u001b[38;5;241m=\u001b[39m\u001b[38;5;241m1024\u001b[39m)\n",
      "\u001b[0;31mAttributeError\u001b[0m: type object 'AerSimulator' has no attribute 'backend'"
     ]
    }
   ],
   "source": [
    "service = QiskitRuntimeService(channel=\"ibm_quantum\", token=\"e6dec15dab235c04a88b1aee92cec77d00a5e29cd7a1b296c7fbccf841e64a91e3aa19343670a23c1fcb3cd8e3ae523c6dddd0e3f63137681a0cbe9861885c52\")\n",
    "# backend = service.backend(\"ibmq_qasm_simulator\")\n",
    "aer = AerProvider()\n",
    "backend = aer.get_backend(\"statevector_simulator\")\n",
    "# job = qiskit.execute(circuit,backend,shots=1024)\n",
    "# sampler = Sampler(backend)\n",
    "# job = sampler.run([(circuit,)],shots=1024)\n",
    "# job_monitor(job)\n",
    "job = backend.run(circuit, shots=1024)\n",
    "result = job.result()\n",
    "# print(result)\n",
    "noisy_measurements = result.get_counts()   #returns dictionary, with\n",
    "                                           #output string as keys \n",
    "                                           #and count as the \n",
    "                                           #respective value#get the result which occurred the most\n",
    "measurements = max(noisy_measurements, key=noisy_measurements.get)\n",
    "circuit.draw('mpl')"
   ]
  },
  {
   "cell_type": "code",
   "execution_count": null,
   "metadata": {},
   "outputs": [
    {
     "name": "stdout",
     "output_type": "stream",
     "text": [
      "Constantly 1\n"
     ]
    }
   ],
   "source": [
    "query_state = measurements[-1] #gets the last element in the arrayprint('Prediction:')\n",
    "if query_state == '1':\n",
    "    print('Balanced')\n",
    "else:    #Constant Query\n",
    "    aux_output = measurements[0]\n",
    "    if aux_output == '1':\n",
    "        print('Constantly 0')\n",
    "    else: \n",
    "        print('Constantly 1')"
   ]
  },
  {
   "cell_type": "code",
   "execution_count": null,
   "metadata": {},
   "outputs": [
    {
     "ename": "QiskitError",
     "evalue": "'No statevector for experiment \"None\"'",
     "output_type": "error",
     "traceback": [
      "\u001b[0;31m---------------------------------------------------------------------------\u001b[0m",
      "\u001b[0;31mKeyError\u001b[0m                                  Traceback (most recent call last)",
      "File \u001b[0;32m~/Documents/Projet-Quantique/env/lib/python3.11/site-packages/qiskit/result/result.py:314\u001b[0m, in \u001b[0;36mResult.get_statevector\u001b[0;34m(self, experiment, decimals)\u001b[0m\n\u001b[1;32m    312\u001b[0m \u001b[38;5;28;01mtry\u001b[39;00m:\n\u001b[1;32m    313\u001b[0m     \u001b[38;5;28;01mreturn\u001b[39;00m postprocess\u001b[38;5;241m.\u001b[39mformat_statevector(\n\u001b[0;32m--> 314\u001b[0m         \u001b[38;5;28;43mself\u001b[39;49m\u001b[38;5;241;43m.\u001b[39;49m\u001b[43mdata\u001b[49m\u001b[43m(\u001b[49m\u001b[43mexperiment\u001b[49m\u001b[43m)\u001b[49m\u001b[43m[\u001b[49m\u001b[38;5;124;43m\"\u001b[39;49m\u001b[38;5;124;43mstatevector\u001b[39;49m\u001b[38;5;124;43m\"\u001b[39;49m\u001b[43m]\u001b[49m, decimals\u001b[38;5;241m=\u001b[39mdecimals\n\u001b[1;32m    315\u001b[0m     )\n\u001b[1;32m    316\u001b[0m \u001b[38;5;28;01mexcept\u001b[39;00m \u001b[38;5;167;01mKeyError\u001b[39;00m \u001b[38;5;28;01mas\u001b[39;00m ex:\n",
      "\u001b[0;31mKeyError\u001b[0m: 'statevector'",
      "\nThe above exception was the direct cause of the following exception:\n",
      "\u001b[0;31mQiskitError\u001b[0m                               Traceback (most recent call last)",
      "Cell \u001b[0;32mIn[152], line 3\u001b[0m\n\u001b[1;32m      1\u001b[0m \u001b[38;5;66;03m# state = Statevector.from_instruction(circuit)\u001b[39;00m\n\u001b[1;32m      2\u001b[0m \u001b[38;5;66;03m# state = Statevector.from_int(0, 3**3)\u001b[39;00m\n\u001b[0;32m----> 3\u001b[0m state \u001b[38;5;241m=\u001b[39m \u001b[43mresult\u001b[49m\u001b[38;5;241;43m.\u001b[39;49m\u001b[43mget_statevector\u001b[49m\u001b[43m(\u001b[49m\u001b[43m)\u001b[49m\n\u001b[1;32m      4\u001b[0m \u001b[38;5;66;03m# Evolve the state by the quantum circuit\u001b[39;00m\n\u001b[1;32m      5\u001b[0m \u001b[38;5;66;03m# state = state.evolve(circuit)\u001b[39;00m\n\u001b[1;32m      6\u001b[0m state\u001b[38;5;241m.\u001b[39mdraw(\u001b[38;5;124m'\u001b[39m\u001b[38;5;124mqsphere\u001b[39m\u001b[38;5;124m'\u001b[39m)\n",
      "File \u001b[0;32m~/Documents/Projet-Quantique/env/lib/python3.11/site-packages/qiskit/result/result.py:317\u001b[0m, in \u001b[0;36mResult.get_statevector\u001b[0;34m(self, experiment, decimals)\u001b[0m\n\u001b[1;32m    313\u001b[0m     \u001b[38;5;28;01mreturn\u001b[39;00m postprocess\u001b[38;5;241m.\u001b[39mformat_statevector(\n\u001b[1;32m    314\u001b[0m         \u001b[38;5;28mself\u001b[39m\u001b[38;5;241m.\u001b[39mdata(experiment)[\u001b[38;5;124m\"\u001b[39m\u001b[38;5;124mstatevector\u001b[39m\u001b[38;5;124m\"\u001b[39m], decimals\u001b[38;5;241m=\u001b[39mdecimals\n\u001b[1;32m    315\u001b[0m     )\n\u001b[1;32m    316\u001b[0m \u001b[38;5;28;01mexcept\u001b[39;00m \u001b[38;5;167;01mKeyError\u001b[39;00m \u001b[38;5;28;01mas\u001b[39;00m ex:\n\u001b[0;32m--> 317\u001b[0m     \u001b[38;5;28;01mraise\u001b[39;00m QiskitError(\u001b[38;5;124mf\u001b[39m\u001b[38;5;124m'\u001b[39m\u001b[38;5;124mNo statevector for experiment \u001b[39m\u001b[38;5;124m\"\u001b[39m\u001b[38;5;132;01m{\u001b[39;00m\u001b[38;5;28mrepr\u001b[39m(experiment)\u001b[38;5;132;01m}\u001b[39;00m\u001b[38;5;124m\"\u001b[39m\u001b[38;5;124m'\u001b[39m) \u001b[38;5;28;01mfrom\u001b[39;00m \u001b[38;5;21;01mex\u001b[39;00m\n",
      "\u001b[0;31mQiskitError\u001b[0m: 'No statevector for experiment \"None\"'"
     ]
    }
   ],
   "source": [
    "# state = Statevector.from_instruction(circuit)\n",
    "# state = Statevector.from_int(0, 3**3)\n",
    "state = result.get_statevector()\n",
    "# Evolve the state by the quantum circuit\n",
    "# state = state.evolve(circuit)\n",
    "state.draw('qsphere')"
   ]
  }
 ],
 "metadata": {
  "kernelspec": {
   "display_name": "env",
   "language": "python",
   "name": "python3"
  },
  "language_info": {
   "codemirror_mode": {
    "name": "ipython",
    "version": 3
   },
   "file_extension": ".py",
   "mimetype": "text/x-python",
   "name": "python",
   "nbconvert_exporter": "python",
   "pygments_lexer": "ipython3",
   "version": "3.11.8"
  }
 },
 "nbformat": 4,
 "nbformat_minor": 2
}
